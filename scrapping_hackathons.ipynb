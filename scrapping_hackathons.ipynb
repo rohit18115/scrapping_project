{
 "cells": [
  {
   "cell_type": "markdown",
   "metadata": {},
   "source": [
    "## prerequisites:\n",
    "\n",
    "- Beautifulsoup\n",
    "- selenium\n",
    "- pandas\n",
    "- webdriver manager\n",
    "- openpyxl"
   ]
  },
  {
   "cell_type": "code",
   "execution_count": 1,
   "metadata": {},
   "outputs": [],
   "source": [
    "import os\n",
    "from selenium import webdriver\n",
    "from selenium.webdriver.common.keys import Keys\n",
    "import time\n",
    "from webdriver_manager.chrome import ChromeDriverManager\n",
    "import pandas as pd\n",
    "import urllib3\n",
    "import re\n",
    "from bs4 import BeautifulSoup\n",
    "import csv\n",
    "http=urllib3.PoolManager()"
   ]
  },
  {
   "cell_type": "code",
   "execution_count": 8,
   "metadata": {},
   "outputs": [
    {
     "name": "stdout",
     "output_type": "stream",
     "text": [
      "\n"
     ]
    },
    {
     "name": "stderr",
     "output_type": "stream",
     "text": [
      "[WDM] - ====== WebDriver manager ======\n",
      "[WDM] - Current google-chrome version is 96.0.4664\n",
      "[WDM] - Get LATEST chromedriver version for 96.0.4664 google-chrome\n",
      "[WDM] - Driver [/home/rohit/.wdm/drivers/chromedriver/linux64/96.0.4664.45/chromedriver] found in cache\n"
     ]
    }
   ],
   "source": [
    "driver = webdriver.Chrome(ChromeDriverManager().install())\n",
    "\n",
    "#The website that consists of all the hackathons and their links\n",
    "driver.get(\"https://unstop.com/hackathons?filters=,all,all,all&types=teamsize,payment,eligible,oppstatus\")\n",
    "\n",
    "#for just testing purposes the number of scrolls are set to 3, we can increase it any number depending on the \n",
    "# hackathons we want to extract contact information for.\n",
    "ScrollNumber = 3\n",
    "for i in range(1,ScrollNumber):\n",
    "    driver.execute_script(\"window.scrollTo(1,50000)\")\n",
    "    time.sleep(5)\n",
    "\n",
    "# DS.html has the html code for the infinite scrolling page    \n",
    "file = open('DS.html', 'w')\n",
    "file.write(driver.page_source)\n",
    "file.close()\n",
    "\n",
    "driver.close()"
   ]
  },
  {
   "cell_type": "markdown",
   "metadata": {},
   "source": [
    "## Scrape the HTML code and extract links for all the hackathons and output to excel"
   ]
  },
  {
   "cell_type": "code",
   "execution_count": 14,
   "metadata": {},
   "outputs": [],
   "source": [
    "def scrape(file_name='DS.html'):\n",
    "    link_list = []\n",
    "    main_dict = {}\n",
    "    data = open(file_name,'r')\n",
    "    soup = BeautifulSoup(data, 'html.parser')\n",
    "    for link in soup.find_all('a', {'class': re.compile(r\"listing order-\\d id-[0-9]+ full_banner ng-star-inserted\", re.IGNORECASE)}):\n",
    "        link_list.append('https://unstop.com'+link.get('href'))\n",
    "    return link_list    "
   ]
  },
  {
   "cell_type": "code",
   "execution_count": 15,
   "metadata": {},
   "outputs": [],
   "source": [
    "links = scrape()\n",
    "l2 = [0 for i in links]\n",
    "\n",
    "# yet to extract the contact information till then creating a dummy array and giving the output in excel\n",
    "df = pd.DataFrame({'hackathon links': links, 'Contact_information': l2})\n",
    "df.to_excel('test.xlsx', sheet_name='sheet1', index=False)"
   ]
  },
  {
   "cell_type": "markdown",
   "metadata": {},
   "source": [
    "## Trying to figure out how to extract contact information:\n",
    "\n",
    "### Stuck here: [created a forum link](https://forum.webscraper.io/t/extract-contact-information-from-website-but-stuck/10543)"
   ]
  },
  {
   "cell_type": "code",
   "execution_count": 13,
   "metadata": {
    "scrolled": true
   },
   "outputs": [
    {
     "name": "stdout",
     "output_type": "stream",
     "text": [
      "\n"
     ]
    },
    {
     "name": "stderr",
     "output_type": "stream",
     "text": [
      "[WDM] - ====== WebDriver manager ======\n",
      "[WDM] - Current google-chrome version is 96.0.4664\n",
      "[WDM] - Get LATEST chromedriver version for 96.0.4664 google-chrome\n",
      "[WDM] - Driver [/home/rohit/.wdm/drivers/chromedriver/linux64/96.0.4664.45/chromedriver] found in cache\n"
     ]
    },
    {
     "name": "stdout",
     "output_type": "stream",
     "text": [
      "[]\n"
     ]
    }
   ],
   "source": [
    "import os\n",
    "from selenium import webdriver\n",
    "from selenium.webdriver.common.keys import Keys\n",
    "import time\n",
    "from webdriver_manager.chrome import ChromeDriverManager\n",
    "import pandas as pd\n",
    "\n",
    "driver = webdriver.Chrome(ChromeDriverManager().install())\n",
    "\n",
    "driver.get(\"https://unstop.com/hackathon/weave-the-web-powered-by-edot-solutions-techyon-2022-padre-conceicao-college-of-engineering-salcete-goa-462438\")\n",
    "stages = driver.find_elements_by_xpath(\"/html/body/div[1]/main/app-public-competition/div/div[2]/div[2]/div/div[1]/div[3]/div/app-dates-and-contacts/section/div/div[2]/ul\")\n",
    "print(stages)\n"
   ]
  },
  {
   "cell_type": "markdown",
   "metadata": {},
   "source": [
    "## For contacts extract all of the content under the class \"contact ng-star-inserted\""
   ]
  },
  {
   "cell_type": "code",
   "execution_count": null,
   "metadata": {},
   "outputs": [],
   "source": [
    "#tab-dates > div > app-dates-and-contacts > section > div > div:nth-child(2) > ul"
   ]
  }
 ],
 "metadata": {
  "kernelspec": {
   "display_name": "Python 3",
   "language": "python",
   "name": "python3"
  },
  "language_info": {
   "codemirror_mode": {
    "name": "ipython",
    "version": 3
   },
   "file_extension": ".py",
   "mimetype": "text/x-python",
   "name": "python",
   "nbconvert_exporter": "python",
   "pygments_lexer": "ipython3",
   "version": "3.6.9"
  }
 },
 "nbformat": 4,
 "nbformat_minor": 4
}
