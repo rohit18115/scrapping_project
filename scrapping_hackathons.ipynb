{
 "cells": [
  {
   "cell_type": "markdown",
   "metadata": {},
   "source": [
    "## prerequisites:\n",
    "\n",
    "- Beautifulsoup\n",
    "- selenium\n",
    "- pandas\n",
    "- webdriver manager\n",
    "- openpyxl"
   ]
  },
  {
   "cell_type": "code",
   "execution_count": 54,
   "metadata": {},
   "outputs": [],
   "source": [
    "import os\n",
    "from selenium import webdriver\n",
    "from selenium.webdriver.common.keys import Keys\n",
    "import time\n",
    "from webdriver_manager.chrome import ChromeDriverManager\n",
    "import pandas as pd\n",
    "import urllib3\n",
    "import re\n",
    "from bs4 import BeautifulSoup\n",
    "import csv\n",
    "http=urllib3.PoolManager()\n",
    "import requests\n",
    "import json"
   ]
  },
  {
   "cell_type": "markdown",
   "metadata": {},
   "source": [
    "# Scraping all the links of hackathons\n",
    "\n",
    "Set ScrollNumber variable in code to any number to gather more links of hackathons hosted on this site"
   ]
  },
  {
   "cell_type": "code",
   "execution_count": 8,
   "metadata": {},
   "outputs": [
    {
     "name": "stdout",
     "output_type": "stream",
     "text": [
      "\n"
     ]
    },
    {
     "name": "stderr",
     "output_type": "stream",
     "text": [
      "[WDM] - ====== WebDriver manager ======\n",
      "[WDM] - Current google-chrome version is 96.0.4664\n",
      "[WDM] - Get LATEST chromedriver version for 96.0.4664 google-chrome\n",
      "[WDM] - Driver [/home/rohit/.wdm/drivers/chromedriver/linux64/96.0.4664.45/chromedriver] found in cache\n"
     ]
    }
   ],
   "source": [
    "driver = webdriver.Chrome(ChromeDriverManager().install())\n",
    "\n",
    "#The website that consists of all the hackathons and their links\n",
    "driver.get(\"https://unstop.com/hackathons?filters=,all,all,all&types=teamsize,payment,eligible,oppstatus\")\n",
    "\n",
    "#for just testing purposes the number of scrolls are set to 3, we can increase it any number depending on the \n",
    "# hackathons we want to extract contact information for.\n",
    "ScrollNumber = 3\n",
    "for i in range(1,ScrollNumber):\n",
    "    driver.execute_script(\"window.scrollTo(1,50000)\")\n",
    "    time.sleep(5)\n",
    "\n",
    "# DS.html has the html code for the infinite scrolling page    \n",
    "file = open('DS.html', 'w')\n",
    "file.write(driver.page_source)\n",
    "file.close()\n",
    "\n",
    "driver.close()"
   ]
  },
  {
   "cell_type": "markdown",
   "metadata": {},
   "source": [
    "## Scrape the HTML code and extract links for all the hackathons and output to excel"
   ]
  },
  {
   "cell_type": "code",
   "execution_count": 82,
   "metadata": {},
   "outputs": [],
   "source": [
    "def scrape(file_name='DS.html'):\n",
    "    contact_link_list = []\n",
    "    contacts_json_list = []\n",
    "    \n",
    "    data = open(file_name,'r')\n",
    "    soup = BeautifulSoup(data, 'html.parser')\n",
    "    for link in soup.find_all('a', {'class': re.compile(r\"listing order-\\d id-[0-9]+ full_banner ng-star-inserted\", re.IGNORECASE)}):\n",
    "        contact_link, contacts_json = extract_contacts('https://unstop.com'+link.get('href'))\n",
    "        contact_link_list.append(contact_link)\n",
    "        contacts_json_list.append(contacts_json)\n",
    "    return contact_link_list, contacts_json_list\n",
    "\n",
    "# Using the API to extract contacts:\n",
    "def extract_contacts(link):\n",
    "    \n",
    "    contact_link = ''\n",
    "    contacts_json = ''\n",
    "    non_contact_link = ''\n",
    "    \n",
    "    \n",
    "    last_bit= link.split('/')[-1].split('-')[-1]\n",
    "    response_API = requests.get('https://unstop.com/api/public/competition/'+last_bit)\n",
    "    data = response_API.text\n",
    "    parse_json = json.loads(data)\n",
    "    if 'data' in parse_json and 'competition' in parse_json['data']:\n",
    "        if 'contacts' in parse_json['data']['competition']:\n",
    "            contact_link = link\n",
    "            contacts_json = parse_json['data']['competition']['contacts']\n",
    "            return contact_link, contacts_json\n",
    "        else:\n",
    "            non_contact_link = link\n",
    "            contacts_json = ''\n",
    "            return non_contact_link, contacts_json\n",
    "\n",
    "contact_link_list, contacts_json_list = scrape()\n",
    "\n",
    "df = pd.DataFrame({'hackathon links': links, 'Contact_information': contacts_json_list, 'length':[len(i) for i in contacts_json_list]})\n",
    "contacts_df = df[df['length']!=0][['hackathon links','Contact_information']]\n",
    "non_contacts_df = df[df['length']==0][['hackathon links','Contact_information']]\n",
    "\n",
    "contacts_df.to_excel('contacts.xlsx', sheet_name='sheet1', index=False)\n",
    "non_contacts_df.to_excel('non_contacts.xlsx', sheet_name='sheet1', index=False)\n"
   ]
  },
  {
   "cell_type": "markdown",
   "metadata": {},
   "source": []
  },
  {
   "cell_type": "code",
   "execution_count": null,
   "metadata": {},
   "outputs": [],
   "source": [
    "## Using the api method instead of scrapping method(so the code below is not useful for now)\n",
    "\n",
    "# ## Trying to figure out how to extract contact information:\n",
    "\n",
    "# ### Stuck here: [created a forum link](https://forum.webscraper.io/t/extract-contact-information-from-website-but-stuck/10543)\n",
    "\n",
    "# import os\n",
    "# from selenium import webdriver\n",
    "# from selenium.webdriver.common.keys import Keys\n",
    "# import time\n",
    "# from webdriver_manager.chrome import ChromeDriverManager\n",
    "# import pandas as pd\n",
    "\n",
    "# driver = webdriver.Chrome(ChromeDriverManager().install())\n",
    "\n",
    "# driver.get(\"https://unstop.com/hackathon/weave-the-web-powered-by-edot-solutions-techyon-2022-padre-conceicao-college-of-engineering-salcete-goa-462438\")\n",
    "# stages = driver.find_elements_by_xpath(\"/html/body/div[1]/main/app-public-competition/div/div[2]/div[2]/div/div[1]/div[3]/div/app-dates-and-contacts/section/div/div[2]/ul\")\n",
    "# print(stages)\n",
    "\n",
    "\n",
    "# ## For contacts extract all of the content under the class \"contact ng-star-inserted\""
   ]
  },
  {
   "cell_type": "code",
   "execution_count": null,
   "metadata": {},
   "outputs": [],
   "source": []
  }
 ],
 "metadata": {
  "kernelspec": {
   "display_name": "Python 3",
   "language": "python",
   "name": "python3"
  },
  "language_info": {
   "codemirror_mode": {
    "name": "ipython",
    "version": 3
   },
   "file_extension": ".py",
   "mimetype": "text/x-python",
   "name": "python",
   "nbconvert_exporter": "python",
   "pygments_lexer": "ipython3",
   "version": "3.6.9"
  }
 },
 "nbformat": 4,
 "nbformat_minor": 4
}
